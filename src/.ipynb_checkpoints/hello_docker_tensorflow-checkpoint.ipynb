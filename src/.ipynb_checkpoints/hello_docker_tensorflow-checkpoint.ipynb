{
 "cells": [
  {
   "cell_type": "code",
   "execution_count": 1,
   "metadata": {},
   "outputs": [],
   "source": [
    "import tensorflow as tf\n",
    "import numpy as np\n",
    "import matplotlib.pyplot as plt\n",
    "from PIL import Image"
   ]
  },
  {
   "cell_type": "code",
   "execution_count": 2,
   "metadata": {},
   "outputs": [
    {
     "name": "stdout",
     "output_type": "stream",
     "text": [
      "tensorflow ver. 2.1.0\n"
     ]
    }
   ],
   "source": [
    "print('tensorflow ver.', tf.__version__)"
   ]
  },
  {
   "cell_type": "markdown",
   "metadata": {},
   "source": [
    "MNISTの訓練データとテストデータのダウンロード\n",
    "\n",
    "|　|  |\n",
    "|--|--|\n",
    "|画像サイズ|28x28|\n",
    "|データ範囲|0-255 (uint8)\n",
    "|データ数|訓練データ 6000枚\n",
    "|　　　　|テストデータ 6000枚"
   ]
  },
  {
   "cell_type": "code",
   "execution_count": 3,
   "metadata": {},
   "outputs": [],
   "source": [
    "mnist = tf.keras.datasets.mnist\n",
    "(x_train, y_train),(x_test, y_test) = mnist.load_data()"
   ]
  },
  {
   "cell_type": "code",
   "execution_count": 4,
   "metadata": {},
   "outputs": [
    {
     "name": "stdout",
     "output_type": "stream",
     "text": [
      "クラス      ： <class 'numpy.ndarray'>\n",
      "データサイズ： (60000, 28, 28)\n",
      "データ型　　： uint8\n",
      "データ範囲　： 0 - 255\n",
      "ラベル範囲　： 0 - 9\n",
      "データラベル： [0 1 2 3 4 5 6 7 8 9]\n",
      "ラベル頻度　： [5923 6742 5958 6131 5842 5421 5918 6265 5851 5949]\n"
     ]
    }
   ],
   "source": [
    "print('クラス      ：', type(x_train))\n",
    "print('データサイズ：', x_train.shape)\n",
    "print('データ型　　：', x_train.dtype)\n",
    "print('データ範囲　：', x_train.min(), '-', x_train.max())\n",
    "print('ラベル範囲　：', y_train.min(), '-', y_train.max())\n",
    "u, count = np.unique(y_train, return_counts=True)\n",
    "print('データラベル：', u)\n",
    "print('ラベル頻度　：', count)"
   ]
  },
  {
   "cell_type": "code",
   "execution_count": 5,
   "metadata": {},
   "outputs": [
    {
     "data": {
      "image/png": "[encoded data removed]",
      "text/plain": [
       "<PIL.Image.Image image mode=L size=256x256 at 0x7F199435A390>"
      ]
     },
     "execution_count": 5,
     "metadata": {},
     "output_type": "execute_result"
    }
   ],
   "source": [
    "Image.fromarray(x_train[0]).resize((256,256))"
   ]
  },
  {
   "cell_type": "markdown",
   "metadata": {},
   "source": [
    "データを0-1で正規化する"
   ]
  },
  {
   "cell_type": "code",
   "execution_count": 6,
   "metadata": {},
   "outputs": [],
   "source": [
    "x_train, x_test = x_train / 255.0, x_test / 255.0"
   ]
  },
  {
   "cell_type": "markdown",
   "metadata": {},
   "source": [
    "# モデルの構築\n",
    "\n",
    "- Flatten : 一次元配列に変換\n",
    "- Dense：全結合層、活性化関数を指定\n",
    "- Dropout: dropout率を指定。訓練の間に要素の20%のニューロンがランダムにドロップアウトされることを表す。"
   ]
  },
  {
   "cell_type": "code",
   "execution_count": 7,
   "metadata": {},
   "outputs": [
    {
     "name": "stdout",
     "output_type": "stream",
     "text": [
      "Model: \"tf_tutorial_model\"\n",
      "_________________________________________________________________\n",
      "Layer (type)                 Output Shape              Param #   \n",
      "=================================================================\n",
      "flatten (Flatten)            (None, 784)               0         \n",
      "_________________________________________________________________\n",
      "dense (Dense)                (None, 128)               100480    \n",
      "_________________________________________________________________\n",
      "dropout (Dropout)            (None, 128)               0         \n",
      "_________________________________________________________________\n",
      "dense_1 (Dense)              (None, 10)                1290      \n",
      "=================================================================\n",
      "Total params: 101,770\n",
      "Trainable params: 101,770\n",
      "Non-trainable params: 0\n",
      "_________________________________________________________________\n"
     ]
    }
   ],
   "source": [
    "model = tf.keras.models.Sequential([\n",
    "    tf.keras.layers.Flatten(input_shape=(28,28)),\n",
    "    tf.keras.layers.Dense(128, activation='relu'),\n",
    "    tf.keras.layers.Dropout(0.2),\n",
    "    tf.keras.layers.Dense(10, activation='softmax')\n",
    "], name='tf_tutorial_model')\n",
    "\n",
    "model.summary()"
   ]
  },
  {
   "cell_type": "markdown",
   "metadata": {},
   "source": [
    "NNの学習の目的は、損失関数の値を最小化するパラメータを見つけるいわば最適化の一種です。なので、最適パラメータを探索するためのアルゴリズムや損失関数、評価関数を指定してあげる必要があります。\n",
    "\n",
    "- `optimizer` : 最適化アルゴリズムの指定\n",
    "- `loss` :  損失関数の指定（一般的に、二乗和誤差や交差エントロピー誤差など）\n",
    "\n",
    "| | |\n",
    "|:--|:--|\n",
    "|2乗和誤差|$ E = \\frac{1}{2}\\sum_{k} (y_k-t_k)^2$|\n",
    "|交差エントロピー誤差|$ E=-\\sum_{k}t_k logy_k $\n",
    "\n",
    "- `metrics` : 評価関数の指定。\"accuracy\"を選択すると、損失関数や出力テンソルの情報から自動で\"categorical_accuracy\"などを判断してくれる。[3]"
   ]
  },
  {
   "cell_type": "code",
   "execution_count": 8,
   "metadata": {},
   "outputs": [],
   "source": [
    "model.compile(optimizer='adam', \n",
    "              loss='sparse_categorical_crossentropy',\n",
    "              metrics=['accuracy'])"
   ]
  },
  {
   "cell_type": "markdown",
   "metadata": {},
   "source": [
    "# モデルの訓練および評価\n",
    "\n",
    "- `mode.fit`：モデルの訓練\n",
    "- `model.evaluate`：モデルの評価"
   ]
  },
  {
   "cell_type": "code",
   "execution_count": 9,
   "metadata": {},
   "outputs": [
    {
     "name": "stdout",
     "output_type": "stream",
     "text": [
      "Train on 60000 samples\n",
      "Epoch 1/5\n",
      "60000/60000 [==============================] - 2s 36us/sample - loss: 0.2944 - accuracy: 0.9148\n",
      "Epoch 2/5\n",
      "60000/60000 [==============================] - 2s 33us/sample - loss: 0.1412 - accuracy: 0.9583\n",
      "Epoch 3/5\n",
      "60000/60000 [==============================] - 2s 33us/sample - loss: 0.1066 - accuracy: 0.9679\n",
      "Epoch 4/5\n",
      "60000/60000 [==============================] - 2s 34us/sample - loss: 0.0871 - accuracy: 0.9731\n",
      "Epoch 5/5\n",
      "60000/60000 [==============================] - 2s 33us/sample - loss: 0.0740 - accuracy: 0.9768\n",
      "10000/10000 - 0s - loss: 0.0725 - accuracy: 0.9782\n"
     ]
    },
    {
     "data": {
      "text/plain": [
       "[0.07253923879633657, 0.9782]"
      ]
     },
     "execution_count": 9,
     "metadata": {},
     "output_type": "execute_result"
    }
   ],
   "source": [
    "fit = model.fit(x_train, y_train, epochs=5)\n",
    "\n",
    "model.evaluate(x_test,  y_test, verbose=2)"
   ]
  },
  {
   "cell_type": "code",
   "execution_count": 10,
   "metadata": {},
   "outputs": [
    {
     "ename": "KeyError",
     "evalue": "'acc'",
     "output_type": "error",
     "traceback": [
      "\u001b[0;31m\u001b[0m",
      "\u001b[0;31mKeyError\u001b[0mTraceback (most recent call last)",
      "\u001b[0;32m<ipython-input-10-292db244eb17>\u001b[0m in \u001b[0;36m<module>\u001b[0;34m\u001b[0m\n\u001b[1;32m      7\u001b[0m \u001b[0maxL\u001b[0m\u001b[0;34m.\u001b[0m\u001b[0mlegend\u001b[0m\u001b[0;34m(\u001b[0m\u001b[0mloc\u001b[0m\u001b[0;34m=\u001b[0m\u001b[0;34m'upper right'\u001b[0m\u001b[0;34m)\u001b[0m\u001b[0;34m\u001b[0m\u001b[0;34m\u001b[0m\u001b[0m\n\u001b[1;32m      8\u001b[0m \u001b[0;34m\u001b[0m\u001b[0m\n\u001b[0;32m----> 9\u001b[0;31m \u001b[0maxR\u001b[0m\u001b[0;34m.\u001b[0m\u001b[0mplot\u001b[0m\u001b[0;34m(\u001b[0m\u001b[0mfit\u001b[0m\u001b[0;34m.\u001b[0m\u001b[0mhistory\u001b[0m\u001b[0;34m[\u001b[0m\u001b[0;34m'acc'\u001b[0m\u001b[0;34m]\u001b[0m\u001b[0;34m,\u001b[0m\u001b[0mlabel\u001b[0m\u001b[0;34m=\u001b[0m\u001b[0;34m\"loss for training\"\u001b[0m\u001b[0;34m)\u001b[0m\u001b[0;34m\u001b[0m\u001b[0;34m\u001b[0m\u001b[0m\n\u001b[0m\u001b[1;32m     10\u001b[0m \u001b[0maxR\u001b[0m\u001b[0;34m.\u001b[0m\u001b[0mset_title\u001b[0m\u001b[0;34m(\u001b[0m\u001b[0;34m'model accuracy'\u001b[0m\u001b[0;34m)\u001b[0m\u001b[0;34m\u001b[0m\u001b[0;34m\u001b[0m\u001b[0m\n\u001b[1;32m     11\u001b[0m \u001b[0maxR\u001b[0m\u001b[0;34m.\u001b[0m\u001b[0mset_xlabel\u001b[0m\u001b[0;34m(\u001b[0m\u001b[0;34m'epoch'\u001b[0m\u001b[0;34m)\u001b[0m\u001b[0;34m\u001b[0m\u001b[0;34m\u001b[0m\u001b[0m\n",
      "\u001b[0;31mKeyError\u001b[0m: 'acc'"
     ]
    },
    {
     "data": {
      "image/png": "[encoded data removed]",
      "text/plain": [
       "<Figure size 720x288 with 2 Axes>"
      ]
     },
     "metadata": {
      "needs_background": "light"
     },
     "output_type": "display_data"
    }
   ],
   "source": [
    "fig, (axL, axR) = plt.subplots(ncols=2, figsize=(10,4))\n",
    "\n",
    "axL.plot(fit.history['loss'],label=\"loss for training\")\n",
    "axL.set_title('model loss')\n",
    "axL.set_xlabel('epoch')\n",
    "axL.set_ylabel('loss')\n",
    "axL.legend(loc='upper right')\n",
    "\n",
    "axR.plot(fit.history['acc'],label=\"loss for training\")\n",
    "axR.set_title('model accuracy')\n",
    "axR.set_xlabel('epoch')\n",
    "axR.set_ylabel('accuracy')\n",
    "axR.legend(loc='upper right')"
   ]
  },
  {
   "cell_type": "markdown",
   "metadata": {},
   "source": [
    "# 参考サイト\n",
    "\n",
    "1. [初心者のための TensorFlow 2.0 入門  |  TensorFlow Core](https://www.tensorflow.org/tutorials/quickstart/beginner?hl=ja)\n",
    "1. [TensorFlow, Kerasの基本的な使い方（モデル構築・訓練・評価・予測） | note.nkmk.me](https://note.nkmk.me/python-tensorflow-keras-basics/)\n",
    "1. [【Keras入門(4)】Kerasの評価関数(Metrics) - Qiita](https://qiita.com/FukuharaYohei/items/f7df70b984a4c7a53d58)\n",
    "1. [MNISTでハイパーパラメータをいじってloss/accuracyグラフを見てみる - Qiita](https://qiita.com/hiroyuki827/items/213146d551a6e2227810)"
   ]
  }
 ],
 "metadata": {
  "kernelspec": {
   "display_name": "Python 3",
   "language": "python",
   "name": "python3"
  },
  "language_info": {
   "codemirror_mode": {
    "name": "ipython",
    "version": 3
   },
   "file_extension": ".py",
   "mimetype": "text/x-python",
   "name": "python",
   "nbconvert_exporter": "python",
   "pygments_lexer": "ipython3",
   "version": "3.6.9"
  }
 },
 "nbformat": 4,
 "nbformat_minor": 4
}
