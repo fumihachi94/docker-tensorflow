{
 "cells": [
  {
   "cell_type": "markdown",
   "metadata": {},
   "source": [
    "# Sample : MNISTの学習"
   ]
  },
  {
   "cell_type": "code",
   "execution_count": 1,
   "metadata": {},
   "outputs": [
    {
     "name": "stdout",
     "output_type": "stream",
     "text": [
      "Collecting pip\n",
      "\u001b[?25l  Downloading https://files.pythonhosted.org/packages/43/84/23ed6a1796480a6f1a2d38f2802901d078266bda38388954d01d3f2e821d/pip-20.1.1-py2.py3-none-any.whl (1.5MB)\n",
      "\u001b[K     |████████████████████████████████| 1.5MB 4.8MB/s eta 0:00:01\n",
      "\u001b[?25hInstalling collected packages: pip\n",
      "  Found existing installation: pip 19.3.1\n",
      "    Uninstalling pip-19.3.1:\n",
      "      Successfully uninstalled pip-19.3.1\n",
      "Successfully installed pip-20.1.1\n",
      "Requirement already satisfied: pillow in /usr/local/lib/python3.6/dist-packages (7.2.0)\n"
     ]
    }
   ],
   "source": [
    "!pip install --upgrade pip\n",
    "!pip install pillow"
   ]
  },
  {
   "cell_type": "code",
   "execution_count": 2,
   "metadata": {},
   "outputs": [],
   "source": [
    "import tensorflow as tf\n",
    "import numpy as np\n",
    "import matplotlib.pyplot as plt\n",
    "from PIL import Image"
   ]
  },
  {
   "cell_type": "code",
   "execution_count": 3,
   "metadata": {},
   "outputs": [
    {
     "name": "stdout",
     "output_type": "stream",
     "text": [
      "tensorflow ver. 2.1.0\n"
     ]
    }
   ],
   "source": [
    "print('tensorflow ver.', tf.__version__)"
   ]
  },
  {
   "cell_type": "markdown",
   "metadata": {},
   "source": [
    "MNISTの訓練データとテストデータのダウンロード\n",
    "\n",
    "|　|  |\n",
    "|--|--|\n",
    "|画像サイズ|28x28|\n",
    "|データ範囲|0-255 (uint8)\n",
    "|データ数|訓練データ 6000枚\n",
    "|　　　　|テストデータ 6000枚"
   ]
  },
  {
   "cell_type": "code",
   "execution_count": 46,
   "metadata": {},
   "outputs": [],
   "source": [
    "mnist = tf.keras.datasets.mnist\n",
    "(x_train, y_train),(x_test, y_test) = mnist.load_data()"
   ]
  },
  {
   "cell_type": "code",
   "execution_count": 47,
   "metadata": {},
   "outputs": [
    {
     "name": "stdout",
     "output_type": "stream",
     "text": [
      "クラス      ： <class 'numpy.ndarray'>\n",
      "データサイズ： (60000, 28, 28)\n",
      "データ型　　： uint8\n",
      "データ範囲　： 0 - 255\n",
      "ラベル範囲　： 0 - 9\n",
      "データラベル： [0 1 2 3 4 5 6 7 8 9]\n",
      "ラベル頻度　： [5923 6742 5958 6131 5842 5421 5918 6265 5851 5949]\n"
     ]
    }
   ],
   "source": [
    "print('クラス      ：', type(x_train))\n",
    "print('データサイズ：', x_train.shape)\n",
    "print('データ型　　：', x_train.dtype)\n",
    "print('データ範囲　：', x_train.min(), '-', x_train.max())\n",
    "print('ラベル範囲　：', y_train.min(), '-', y_train.max())\n",
    "u, count = np.unique(y_train, return_counts=True)\n",
    "print('データラベル：', u)\n",
    "print('ラベル頻度　：', count)"
   ]
  },
  {
   "cell_type": "code",
   "execution_count": 48,
   "metadata": {},
   "outputs": [
    {
     "data": {
      "image/png": "[encoded data removed]",
      "text/plain": [
       "<PIL.Image.Image image mode=L size=112x112 at 0x7F2BC843DE80>"
      ]
     },
     "execution_count": 48,
     "metadata": {},
     "output_type": "execute_result"
    }
   ],
   "source": [
    "Image.fromarray(x_train[0]).resize((112,112))"
   ]
  },
  {
   "cell_type": "markdown",
   "metadata": {},
   "source": [
    "データを0-1で正規化する"
   ]
  },
  {
   "cell_type": "code",
   "execution_count": 49,
   "metadata": {},
   "outputs": [
    {
     "name": "stdout",
     "output_type": "stream",
     "text": [
      "(60000, 28, 28)\n"
     ]
    }
   ],
   "source": [
    "print(x_train.shape)"
   ]
  },
  {
   "cell_type": "code",
   "execution_count": 50,
   "metadata": {},
   "outputs": [],
   "source": [
    "x_train, x_test = x_train / 255.0, x_test / 255.0\n",
    "x_train, x_valid = np.split(x_train, [55000])\n",
    "y_train, y_valid = np.split(y_train, [55000])"
   ]
  },
  {
   "cell_type": "code",
   "execution_count": 51,
   "metadata": {},
   "outputs": [
    {
     "name": "stdout",
     "output_type": "stream",
     "text": [
      "(5000, 28, 28)\n",
      "(55000, 28, 28)\n"
     ]
    }
   ],
   "source": [
    "print(x_valid.shape)\n",
    "print(x_train.shape)"
   ]
  },
  {
   "cell_type": "markdown",
   "metadata": {},
   "source": [
    "# モデルの構築\n",
    "\n",
    "- Flatten : 一次元配列に変換\n",
    "- Dense：全結合層、活性化関数を指定\n",
    "- Dropout: dropout率を指定。訓練の間に要素の20%のニューロンがランダムにドロップアウトされることを表す。"
   ]
  },
  {
   "cell_type": "code",
   "execution_count": 8,
   "metadata": {},
   "outputs": [
    {
     "name": "stdout",
     "output_type": "stream",
     "text": [
      "Model: \"tf_tutorial_model\"\n",
      "_________________________________________________________________\n",
      "Layer (type)                 Output Shape              Param #   \n",
      "=================================================================\n",
      "flatten (Flatten)            (None, 784)               0         \n",
      "_________________________________________________________________\n",
      "dense (Dense)                (None, 128)               100480    \n",
      "_________________________________________________________________\n",
      "dropout (Dropout)            (None, 128)               0         \n",
      "_________________________________________________________________\n",
      "dense_1 (Dense)              (None, 10)                1290      \n",
      "=================================================================\n",
      "Total params: 101,770\n",
      "Trainable params: 101,770\n",
      "Non-trainable params: 0\n",
      "_________________________________________________________________\n"
     ]
    }
   ],
   "source": [
    "model = tf.keras.models.Sequential([\n",
    "    tf.keras.layers.Flatten(input_shape=(28,28)),\n",
    "    tf.keras.layers.Dense(128, activation='relu'),\n",
    "    tf.keras.layers.Dropout(0.2),\n",
    "    tf.keras.layers.Dense(10, activation='softmax')\n",
    "], name='tf_tutorial_model')\n",
    "\n",
    "model.summary()"
   ]
  },
  {
   "cell_type": "markdown",
   "metadata": {},
   "source": [
    "NNの学習の目的は、損失関数の値を最小化するパラメータを見つけるいわば最適化の一種です。なので、最適パラメータを探索するためのアルゴリズムや損失関数、評価関数を指定してあげる必要があります。\n",
    "\n",
    "- `optimizer` : 最適化アルゴリズムの指定\n",
    "- `loss` :  損失関数の指定（一般的に、二乗和誤差や交差エントロピー誤差など）\n",
    "\n",
    "| | |\n",
    "|:--|:--|\n",
    "|2乗和誤差|$ E = \\frac{1}{2}\\sum_{k} (y_k-t_k)^2$|\n",
    "|交差エントロピー誤差|$ E=-\\sum_{k}t_k logy_k $\n",
    "\n",
    "- `metrics` : 評価関数の指定。\"accuracy\"を選択すると、損失関数や出力テンソルの情報から自動で\"categorical_accuracy\"などを判断してくれる。[3]"
   ]
  },
  {
   "cell_type": "code",
   "execution_count": 9,
   "metadata": {},
   "outputs": [],
   "source": [
    "model.compile(optimizer='adam', \n",
    "              loss='sparse_categorical_crossentropy',\n",
    "              metrics=['accuracy'])"
   ]
  },
  {
   "cell_type": "markdown",
   "metadata": {},
   "source": [
    "# モデルの訓練および評価\n",
    "\n",
    "- `mode.fit`：モデルの訓練\n",
    "- `model.evaluate`：モデルの評価\n",
    "\n",
    "引数の詳細については以下を参照：\n",
    "- [Sequentialモデル - Keras Documentation](https://keras.io/ja/models/sequential/)"
   ]
  },
  {
   "cell_type": "code",
   "execution_count": 73,
   "metadata": {},
   "outputs": [
    {
     "name": "stdout",
     "output_type": "stream",
     "text": [
      "Train on 55000 samples, validate on 5000 samples\n",
      "Epoch 1/5\n",
      "55000/55000 [==============================] - 2s 37us/sample - loss: 0.0200 - accuracy: 0.9929 - val_loss: 0.0836 - val_accuracy: 0.9860\n",
      "Epoch 2/5\n",
      "55000/55000 [==============================] - 2s 38us/sample - loss: 0.0204 - accuracy: 0.9928 - val_loss: 0.0713 - val_accuracy: 0.9872\n",
      "Epoch 3/5\n",
      "55000/55000 [==============================] - 2s 37us/sample - loss: 0.0187 - accuracy: 0.9936 - val_loss: 0.0975 - val_accuracy: 0.9842\n",
      "Epoch 4/5\n",
      "55000/55000 [==============================] - 2s 37us/sample - loss: 0.0170 - accuracy: 0.9939 - val_loss: 0.0844 - val_accuracy: 0.9852\n",
      "Epoch 5/5\n",
      "55000/55000 [==============================] - 2s 36us/sample - loss: 0.0194 - accuracy: 0.9935 - val_loss: 0.0799 - val_accuracy: 0.9856\n",
      "10000/10000 - 0s - loss: 0.1000 - accuracy: 0.9805\n"
     ]
    },
    {
     "data": {
      "text/plain": [
       "[0.1000018868546691, 0.9805]"
      ]
     },
     "execution_count": 73,
     "metadata": {},
     "output_type": "execute_result"
    }
   ],
   "source": [
    "fit = model.fit(x_train, y_train, epochs=5, verbose=1, validation_data=(x_valid, y_valid))\n",
    "\n",
    "model.evaluate(x_test,  y_test, verbose=2)"
   ]
  },
  {
   "cell_type": "code",
   "execution_count": 68,
   "metadata": {},
   "outputs": [
    {
     "name": "stdout",
     "output_type": "stream",
     "text": [
      "{'loss': [0.022497535760849927, 0.022566522760835837, 0.02147705964120687, 0.019701971736521755, 0.01974553241050612], 'accuracy': [0.9919818, 0.99236363, 0.9924545, 0.9932, 0.9930909], 'val_loss': [0.07096936395724625, 0.06407967706004565, 0.07627705267880046, 0.07839528063566285, 0.07142661568468284], 'val_accuracy': [0.9856, 0.9878, 0.9862, 0.9842, 0.987]}\n"
     ]
    }
   ],
   "source": [
    "print(fit.history)"
   ]
  },
  {
   "cell_type": "code",
   "execution_count": 79,
   "metadata": {},
   "outputs": [
    {
     "data": {
      "text/plain": [
       "(0, 0.3)"
      ]
     },
     "execution_count": 79,
     "metadata": {},
     "output_type": "execute_result"
    },
    {
     "data": {
      "image/png": "[encoded data removed]",
      "text/plain": [
       "<Figure size 720x288 with 2 Axes>"
      ]
     },
     "metadata": {
      "needs_background": "light"
     },
     "output_type": "display_data"
    }
   ],
   "source": [
    "fig, (axL, axR) = plt.subplots(ncols=2, figsize=(10,4))\n",
    "\n",
    "axR.plot(fit.history['accuracy'],label=\"acc for training\")\n",
    "axR.plot(fit.history['val_accuracy'],label=\"acc for validation\")\n",
    "axR.set_title('model accuracy')\n",
    "axR.set_xlabel('epoch')\n",
    "axR.set_ylabel('accuracy')\n",
    "axR.legend(loc='upper right')\n",
    "plt.axes(axR)\n",
    "plt.ylim([0.95, 1])\n",
    "\n",
    "axL.plot(fit.history['loss'],label=\"loss for training\")\n",
    "axL.plot(fit.history['val_loss'],label=\"loss for validation\")\n",
    "axL.set_title('model loss')\n",
    "axL.set_xlabel('epoch')\n",
    "axL.set_ylabel('loss')\n",
    "axL.legend(loc='upper right')\n",
    "plt.axes(axL)\n",
    "plt.ylim([0, 0.3])\n",
    "\n"
   ]
  },
  {
   "cell_type": "markdown",
   "metadata": {},
   "source": [
    "# 参考サイト\n",
    "\n",
    "1. [初心者のための TensorFlow 2.0 入門  |  TensorFlow Core](https://www.tensorflow.org/tutorials/quickstart/beginner?hl=ja)\n",
    "1. [TensorFlow, Kerasの基本的な使い方（モデル構築・訓練・評価・予測） | note.nkmk.me](https://note.nkmk.me/python-tensorflow-keras-basics/)\n",
    "1. [【Keras入門(4)】Kerasの評価関数(Metrics) - Qiita](https://qiita.com/FukuharaYohei/items/f7df70b984a4c7a53d58)\n",
    "1. [MNISTでハイパーパラメータをいじってloss/accuracyグラフを見てみる - Qiita](https://qiita.com/hiroyuki827/items/213146d551a6e2227810)"
   ]
  }
 ],
 "metadata": {
  "kernelspec": {
   "display_name": "Python 3",
   "language": "python",
   "name": "python3"
  },
  "language_info": {
   "codemirror_mode": {
    "name": "ipython",
    "version": 3
   },
   "file_extension": ".py",
   "mimetype": "text/x-python",
   "name": "python",
   "nbconvert_exporter": "python",
   "pygments_lexer": "ipython3",
   "version": "3.6.9"
  }
 },
 "nbformat": 4,
 "nbformat_minor": 4
}
