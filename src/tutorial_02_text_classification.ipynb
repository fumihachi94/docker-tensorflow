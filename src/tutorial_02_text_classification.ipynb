{
 "cells": [
  {
   "cell_type": "markdown",
   "metadata": {},
   "source": [
    "# Tutorial#2 : TF Hubによるテキスト分類ー映画レビューのネガポジ分類ー\n",
    "\n",
    "公式チュートリアルの内容になります。\\\n",
    "[Text classification with TensorFlow Hub: Movie reviews](https://www.tensorflow.org/tutorials/keras/text_classification_with_hub?hl=ja)\n",
    "\n",
    "このチュートリアルでは映画のレビューをPositiveとNegativeの2分類するアルゴリズムを構築します。このチュートリアルではTensorFlow Hub と Kerasを用いた転移学習の基礎を学ぶことができます。転移学習とは何かについては、[数式抜きで、転移学習（Transfer Learning)を概観｜Masaya.Mori 森正弥｜note](https://note.com/masayamori/n/nd7d524ba7656)を参考にしてください。\n",
    "\n",
    "この学習には[IMDBデータ](https://keras.io/ja/datasets/#imdb)セットを利用します。このデータセットは[Internet Movie Databese](https://www.imdb.com/)の50,000の映画レビューを含んでおり、そのうち25,000レビューを訓練用、残りの25,000レビューを評価用に用います。また、このデータセットはPositiveなレビューとNegativeなレビューが同数となるように調整されています。\n",
    "\n",
    "このチュートリアルで利用するもの\n",
    "- [IMDB Dataset](https://keras.io/ja/datasets/#imdb)\n",
    "- Keras\n",
    "- [TensorFlow Hub](https://www.tensorflow.org/hub?hl=ja): 再利用可能な機械学習モジュール用のライブラリ\n",
    "- [tfds-nightly](https://pypi.org/project/tfds-nightly/): TensorFlowですぐに使用できる公開データセットのライブラリ"
   ]
  },
  {
   "cell_type": "code",
   "execution_count": 1,
   "metadata": {},
   "outputs": [],
   "source": [
    "!pip install -q \"tensorflow_hub>=0.6.0\""
   ]
  },
  {
   "cell_type": "code",
   "execution_count": 4,
   "metadata": {},
   "outputs": [],
   "source": [
    "import tensorflow as tf\n",
    "import tensorflow_hub as hub\n",
    "import numpy as np"
   ]
  },
  {
   "cell_type": "code",
   "execution_count": 5,
   "metadata": {},
   "outputs": [
    {
     "name": "stdout",
     "output_type": "stream",
     "text": [
      "Tensorflow version :  2.1.0\n",
      "Keras version:  2.2.4-tf\n",
      "Eager mode:  True\n",
      "Hub version:  0.8.0\n",
      "GPU is NOT AVAILABLE\n"
     ]
    }
   ],
   "source": [
    "print(\"Tensorflow version : \", tf.__version__)\n",
    "print(\"Keras version: \", tf.keras.__version__)\n",
    "print(\"Eager mode: \", tf.executing_eagerly())\n",
    "print(\"Hub version: \", hub.__version__)\n",
    "print(\"GPU is\", \"available\" if tf.config.experimental.list_physical_devices(\"GPU\") else \"NOT AVAILABLE\")"
   ]
  },
  {
   "cell_type": "markdown",
   "metadata": {},
   "source": [
    "※Eager modeとは：[Eager Execution の基本  |  TensorFlow Core](https://www.tensorflow.org/guide/eager?hl=ja)"
   ]
  },
  {
   "cell_type": "code",
   "execution_count": null,
   "metadata": {},
   "outputs": [],
   "source": []
  }
 ],
 "metadata": {
  "kernelspec": {
   "display_name": "Python 3",
   "language": "python",
   "name": "python3"
  },
  "language_info": {
   "codemirror_mode": {
    "name": "ipython",
    "version": 3
   },
   "file_extension": ".py",
   "mimetype": "text/x-python",
   "name": "python",
   "nbconvert_exporter": "python",
   "pygments_lexer": "ipython3",
   "version": "3.6.9"
  }
 },
 "nbformat": 4,
 "nbformat_minor": 4
}
