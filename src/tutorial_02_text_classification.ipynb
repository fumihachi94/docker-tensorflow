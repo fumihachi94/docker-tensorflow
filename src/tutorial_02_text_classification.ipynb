{
 "cells": [
  {
   "cell_type": "markdown",
   "metadata": {},
   "source": [
    "# Tutorial#2 : TF Hubによるテキスト分類ー映画レビューのネガポジ分類ー\n",
    "\n",
    "公式チュートリアルの内容になります。\\\n",
    "[Text classification with TensorFlow Hub: Movie reviews](https://www.tensorflow.org/tutorials/keras/text_classification_with_hub?hl=ja)\n",
    "\n",
    "このチュートリアルでは映画のレビューをPositiveとNegativeの2分類するアルゴリズムを構築します。このチュートリアルではTensorFlow Hub と Kerasを用いた転移学習の基礎を学ぶことができます。転移学習とは何かについては、[数式抜きで、転移学習（Transfer Learning)を概観｜Masaya.Mori 森正弥｜note](https://note.com/masayamori/n/nd7d524ba7656)を参考にしてください。\n",
    "\n",
    "この学習には[IMDBデータ](https://keras.io/ja/datasets/#imdb)セットを利用します。このデータセットは[Internet Movie Databese](https://www.imdb.com/)の50,000の映画レビューを含んでおり、そのうち25,000レビューを訓練用、残りの25,000レビューを評価用に用います。また、このデータセットはPositiveなレビューとNegativeなレビューが同数となるように調整されています。\n",
    "\n",
    "このチュートリアルで利用するもの\n",
    "- [IMDB Dataset](https://keras.io/ja/datasets/#imdb)\n",
    "- Keras\n",
    "- [TensorFlow Hub](https://www.tensorflow.org/hub?hl=ja): 再利用可能な機械学習モジュール用のライブラリ\n",
    "- [tfds-nightly](https://pypi.org/project/tfds-nightly/): TensorFlowですぐに使用できる公開データセットのライブラリ"
   ]
  },
  {
   "cell_type": "code",
   "execution_count": 1,
   "metadata": {},
   "outputs": [
    {
     "name": "stdout",
     "output_type": "stream",
     "text": [
      "\u001b[33mWARNING: You are using pip version 19.3.1; however, version 20.1.1 is available.\n",
      "You should consider upgrading via the 'pip install --upgrade pip' command.\u001b[0m\n",
      "\u001b[33mWARNING: You are using pip version 19.3.1; however, version 20.1.1 is available.\n",
      "You should consider upgrading via the 'pip install --upgrade pip' command.\u001b[0m\n"
     ]
    }
   ],
   "source": [
    "!pip install -q \"tensorflow_hub>=0.6.0\"\n",
    "!pip install -q \"tfds-nightly\""
   ]
  },
  {
   "cell_type": "code",
   "execution_count": 14,
   "metadata": {},
   "outputs": [],
   "source": [
    "import tensorflow as tf\n",
    "import tensorflow_hub as hub\n",
    "import tensorflow_datasets as tfds\n",
    "import numpy as np\n",
    "import matplotlib.pyplot as plt"
   ]
  },
  {
   "cell_type": "code",
   "execution_count": 3,
   "metadata": {},
   "outputs": [
    {
     "name": "stdout",
     "output_type": "stream",
     "text": [
      "Tensorflow version :  2.1.0\n",
      "Keras version:  2.2.4-tf\n",
      "Eager mode:  True\n",
      "Hub version:  0.8.0\n",
      "GPU is NOT AVAILABLE\n"
     ]
    }
   ],
   "source": [
    "print(\"Tensorflow version : \", tf.__version__)\n",
    "print(\"Keras version: \", tf.keras.__version__)\n",
    "print(\"Eager mode: \", tf.executing_eagerly())\n",
    "print(\"Hub version: \", hub.__version__)\n",
    "print(\"GPU is\", \"available\" if tf.config.experimental.list_physical_devices(\"GPU\") else \"NOT AVAILABLE\")"
   ]
  },
  {
   "cell_type": "markdown",
   "metadata": {},
   "source": [
    "※Eager modeとは：[Eager Execution の基本  |  TensorFlow Core](https://www.tensorflow.org/guide/eager?hl=ja)"
   ]
  },
  {
   "cell_type": "markdown",
   "metadata": {},
   "source": [
    "## IMDBデータセットのダウンロード\n",
    "\n",
    "25,000件の訓練用レビューデータがありますが、そのうち15,000レビューを訓練用、残り10,000レビューを訓練途中の確認用に用いるようにします。\n",
    "\n",
    "今回は`imdb_reviews`データセットを利用していますが、[TensorFlow Datasets](https://www.tensorflow.org/datasets/catalog/overview)では他にも多くのデータ・セットをダウンロードして利用することができます。"
   ]
  },
  {
   "cell_type": "code",
   "execution_count": 4,
   "metadata": {},
   "outputs": [],
   "source": [
    "train_reviews, validation_reviews, test_reviews = tfds.load(\n",
    "    name=\"imdb_reviews\",\n",
    "    split=('train[:60%]', 'train[60%:]', 'test'),\n",
    "    as_supervised=True)"
   ]
  },
  {
   "cell_type": "markdown",
   "metadata": {},
   "source": [
    "## データの素性を確認\n",
    "\n",
    "映画レビューのラベル\n",
    "- 0: ネガティブ レビュー\n",
    "- 1: ポジティブ レビュー"
   ]
  },
  {
   "cell_type": "code",
   "execution_count": 5,
   "metadata": {},
   "outputs": [
    {
     "name": "stdout",
     "output_type": "stream",
     "text": [
      "<PrefetchDataset shapes: ((), ()), types: (tf.string, tf.int64)> \n",
      "\n",
      "(<tf.Tensor: shape=(), dtype=string, numpy=b\"This was an absolutely terrible movie. Don't be lured in by Christopher Walken or Michael Ironside. Both are great actors, but this must simply be their worst role in history. Even their great acting could not redeem this movie's ridiculous storyline. This movie is an early nineties US propaganda piece. The most pathetic scenes were those when the Columbian rebels were making their cases for revolutions. Maria Conchita Alonso appeared phony, and her pseudo-love affair with Walken was nothing but a pathetic emotional plug in a movie that was devoid of any real meaning. I am disappointed that there are movies like this, ruining actor's like Christopher Walken's good name. I could barely sit through it.\">, <tf.Tensor: shape=(), dtype=int64, numpy=0>)\n",
      "(<tf.Tensor: shape=(), dtype=string, numpy=b'I have been known to fall asleep during films, but this is usually due to a combination of things including, really tired, being warm and comfortable on the sette and having just eaten a lot. However on this occasion I fell asleep because the film was rubbish. The plot development was constant. Constantly slow and boring. Things seemed to happen, but with no explanation of what was causing them or why. I admit, I may have missed part of the film, but i watched the majority of it and everything just seemed to happen of its own accord without any real concern for anything else. I cant recommend this film at all.'>, <tf.Tensor: shape=(), dtype=int64, numpy=0>)\n"
     ]
    }
   ],
   "source": [
    "# データタイプの確認\n",
    "print(train_reviews, '\\n')\n",
    "\n",
    "# イテレータを使って最初の2つのデータの中身を見てみる\n",
    "it = iter(train_reviews);\n",
    "for i in range(2):\n",
    "    print(next(it))"
   ]
  },
  {
   "cell_type": "code",
   "execution_count": 6,
   "metadata": {},
   "outputs": [
    {
     "name": "stdout",
     "output_type": "stream",
     "text": [
      "Size of train_examples_batch :  10\n",
      "Size of train_labels_batch :  10\n"
     ]
    }
   ],
   "source": [
    "# 10個のミニバッチとしてデータとラベルを抽出\n",
    "train_examples_batch, train_labels_batch = next(iter(train_reviews.batch(10)))\n",
    "print('Size of train_examples_batch : ', len(train_examples_batch))\n",
    "print('Size of train_labels_batch : ', len(train_labels_batch))"
   ]
  },
  {
   "cell_type": "code",
   "execution_count": 7,
   "metadata": {},
   "outputs": [
    {
     "name": "stdout",
     "output_type": "stream",
     "text": [
      "tf.Tensor([0 0 0 1 1 1 0 0 0 0], shape=(10,), dtype=int64) \n",
      "\n",
      "tf.Tensor(0, shape=(), dtype=int64)\n",
      "tf.Tensor(0, shape=(), dtype=int64)\n",
      "tf.Tensor(0, shape=(), dtype=int64)\n",
      "tf.Tensor(1, shape=(), dtype=int64)\n",
      "tf.Tensor(1, shape=(), dtype=int64)\n",
      "tf.Tensor(1, shape=(), dtype=int64)\n",
      "tf.Tensor(0, shape=(), dtype=int64)\n",
      "tf.Tensor(0, shape=(), dtype=int64)\n",
      "tf.Tensor(0, shape=(), dtype=int64)\n",
      "tf.Tensor(0, shape=(), dtype=int64)\n"
     ]
    }
   ],
   "source": [
    "print(train_labels_batch, '\\n')\n",
    "\n",
    "it = iter(train_labels_batch);\n",
    "for i in range(len(train_labels_batch)):\n",
    "    print(next(it))"
   ]
  },
  {
   "cell_type": "markdown",
   "metadata": {},
   "source": [
    "# モデルのビルド\n",
    "\n",
    "今回分類する対象は文章になるが、文章を機械学習で扱えるように表現する方法の一つにEmbeddingがある。そこで、事前に学習済みのEmbeddingを最初のレイヤーに用いる。\n",
    "\n",
    "このチュートリアルでは、事前学習済みモデル「[Tf2 Preview | Gnews Swivel 20dim | TensorFlow Hub](https://tfhub.dev/google/tf2-preview/gnews-swivel-20dim/1)」を利用させてもらう。このembeddingはEnglish Google Newsの130GB分のデータを訓練してつくられているらしい。\n",
    "\n",
    "\n",
    "[Embeddingについてまとめた。 - For Your ISHIO Blog](https://ishitonton.hatenablog.com/entry/2018/11/25/200332)"
   ]
  },
  {
   "cell_type": "code",
   "execution_count": 8,
   "metadata": {},
   "outputs": [
    {
     "name": "stdout",
     "output_type": "stream",
     "text": [
      "tf.Tensor(\n",
      "[[ 1.765786   -3.882232    3.9134233  -1.5557289  -3.3362343  -1.7357955\n",
      "  -1.9954445   1.2989551   5.081598   -1.1041286  -2.0503852  -0.72675157\n",
      "  -0.65675956  0.24436149 -3.7208383   2.0954835   2.2969332  -2.0689783\n",
      "  -2.9489717  -1.1315987 ]\n",
      " [ 1.8804485  -2.5852382   3.4066997   1.0982676  -4.056685   -4.891284\n",
      "  -2.785554    1.3874227   3.8476458  -0.9256538  -1.896706    1.2113281\n",
      "   0.11474707  0.76209456 -4.8791065   2.906149    4.7087674  -2.3652055\n",
      "  -3.5015898  -1.6390051 ]\n",
      " [ 0.71152234 -0.6353217   1.7385626  -1.1168286  -0.5451594  -1.1808156\n",
      "   0.09504455  1.4653089   0.66059524  0.79308075 -2.2268345   0.07446612\n",
      "  -1.4075904  -0.70645386 -1.907037    1.4419787   1.9551861  -0.42660055\n",
      "  -2.8022065   0.43727064]], shape=(3, 20), dtype=float32)\n"
     ]
    }
   ],
   "source": [
    "embedding = \"https://tfhub.dev/google/tf2-preview/gnews-swivel-20dim/1\"\n",
    "hub_layer = hub.KerasLayer(embedding, input_shape=[], \n",
    "                           dtype=tf.string, trainable=True)\n",
    "print(hub_layer(train_examples_batch[:3]))"
   ]
  },
  {
   "cell_type": "markdown",
   "metadata": {},
   "source": [
    "- レイヤー1: TensorFlow Hubレイヤー。このレイヤーでは事前に学習されたモデルを利用して、文章をembedding vectorにマッピングします。\n",
    "- レイヤー2: 前レイヤーで加工された固定長ベクトルを16個のノードに全結合します。\n",
    "- レイヤー3: 1個の出力ノードを持つ全結合層"
   ]
  },
  {
   "cell_type": "code",
   "execution_count": 9,
   "metadata": {},
   "outputs": [
    {
     "name": "stdout",
     "output_type": "stream",
     "text": [
      "Model: \"sequential\"\n",
      "_________________________________________________________________\n",
      "Layer (type)                 Output Shape              Param #   \n",
      "=================================================================\n",
      "keras_layer (KerasLayer)     (None, 20)                400020    \n",
      "_________________________________________________________________\n",
      "dense (Dense)                (None, 16)                336       \n",
      "_________________________________________________________________\n",
      "dense_1 (Dense)              (None, 1)                 17        \n",
      "=================================================================\n",
      "Total params: 400,373\n",
      "Trainable params: 400,373\n",
      "Non-trainable params: 0\n",
      "_________________________________________________________________\n"
     ]
    }
   ],
   "source": [
    "model = tf.keras.Sequential()\n",
    "model.add(hub_layer)\n",
    "model.add(tf.keras.layers.Dense(16, activation='relu'))\n",
    "model.add(tf.keras.layers.Dense(1))\n",
    "\n",
    "model.summary()"
   ]
  },
  {
   "cell_type": "markdown",
   "metadata": {},
   "source": [
    "## 損失関数と最適化アルゴリズム\n",
    "\n",
    "モデルを訓練するためには損失関数と最適化アルゴリズムが必要になります。このTutorial02では2値分類問題かつロジットなので、`binary_crossentropy`損失関数を使います。\n",
    "\n",
    "- `optimizer` (オプティマイザ): モデルが見ているデータと、損失関数の値から、どのようにモデルを更新するかを決定\n",
    "  \n",
    "  \n",
    "- `loss` (損失関数): 損失関数を指定。損失関数とは訓練中にモデルがどれくらい正確かを測定するもので、この値を最小化するようにしてパラメータを学習させる\n",
    "  \n",
    "  \n",
    "- `metrics` (メトリクス): 訓練とテストのステップを監視するのに使用される。`accuracy`の場合、正しく分類された比率を使用する。"
   ]
  },
  {
   "cell_type": "code",
   "execution_count": 10,
   "metadata": {},
   "outputs": [],
   "source": [
    "model.compile(optimizer='adam', \n",
    "             loss=tf.keras.losses.BinaryCrossentropy(from_logits=True),\n",
    "             metrics=['accuracy'])"
   ]
  },
  {
   "cell_type": "markdown",
   "metadata": {},
   "source": [
    "## モデルの訓練\n",
    "\n",
    "epochs : エポック数は一つの訓練データを何回繰り返して学習させるかの回数を表す。エポック数が少なすぎると十分に学習できず、一方でエポック数を大きくしすぎると過学習してしますため、適度な回数を求められます。\n",
    "\n",
    "- [エポック(epoch)数とは【機械学習 / Deep Learning】 - St_Hakky’s blog](https://www.st-hakky-blog.com/entry/2017/01/17/165137)\n",
    "\n",
    "verbose : ログ出力の指定。  \n",
    "  - 0: ログ出力なし\n",
    "  - 1: ログ出力あり（プログレスバー）\n",
    "  - 2: ログ出力あり（epoch毎に1行）\n",
    "\n",
    "- [【Kerasの使い方解説】model.fit verboseの意味・用法 | 子供プログラマー](https://child-programmer.com/ai/keras/model-fit-verbose/)"
   ]
  },
  {
   "cell_type": "code",
   "execution_count": 12,
   "metadata": {},
   "outputs": [
    {
     "name": "stdout",
     "output_type": "stream",
     "text": [
      "Epoch 1/20\n",
      "30/30 [==============================] - 3s 102ms/step - loss: 1.0185 - accuracy: 0.5031 - val_loss: 0.6638 - val_accuracy: 0.5259\n",
      "Epoch 2/20\n",
      "30/30 [==============================] - 2s 68ms/step - loss: 0.6497 - accuracy: 0.5913 - val_loss: 0.6349 - val_accuracy: 0.5863\n",
      "Epoch 3/20\n",
      "30/30 [==============================] - 2s 68ms/step - loss: 0.6203 - accuracy: 0.6015 - val_loss: 0.6127 - val_accuracy: 0.6266\n",
      "Epoch 4/20\n",
      "30/30 [==============================] - 2s 70ms/step - loss: 0.6000 - accuracy: 0.6453 - val_loss: 0.5939 - val_accuracy: 0.6504\n",
      "Epoch 5/20\n",
      "30/30 [==============================] - 2s 67ms/step - loss: 0.5782 - accuracy: 0.6711 - val_loss: 0.5750 - val_accuracy: 0.6710\n",
      "Epoch 6/20\n",
      "30/30 [==============================] - 2s 68ms/step - loss: 0.5556 - accuracy: 0.6952 - val_loss: 0.5535 - val_accuracy: 0.6954\n",
      "Epoch 7/20\n",
      "30/30 [==============================] - 2s 67ms/step - loss: 0.5291 - accuracy: 0.7125 - val_loss: 0.5298 - val_accuracy: 0.7321\n",
      "Epoch 8/20\n",
      "30/30 [==============================] - 2s 69ms/step - loss: 0.4980 - accuracy: 0.7409 - val_loss: 0.4968 - val_accuracy: 0.7514\n",
      "Epoch 9/20\n",
      "30/30 [==============================] - 2s 68ms/step - loss: 0.4588 - accuracy: 0.7697 - val_loss: 0.4603 - val_accuracy: 0.7624\n",
      "Epoch 10/20\n",
      "30/30 [==============================] - 2s 67ms/step - loss: 0.4163 - accuracy: 0.8022 - val_loss: 0.4228 - val_accuracy: 0.8034\n",
      "Epoch 11/20\n",
      "30/30 [==============================] - 2s 67ms/step - loss: 0.3737 - accuracy: 0.8309 - val_loss: 0.3909 - val_accuracy: 0.8218\n",
      "Epoch 12/20\n",
      "30/30 [==============================] - 2s 68ms/step - loss: 0.3366 - accuracy: 0.8553 - val_loss: 0.3653 - val_accuracy: 0.8368\n",
      "Epoch 13/20\n",
      "30/30 [==============================] - 2s 68ms/step - loss: 0.3053 - accuracy: 0.8729 - val_loss: 0.3453 - val_accuracy: 0.8431\n",
      "Epoch 14/20\n",
      "30/30 [==============================] - 2s 71ms/step - loss: 0.2777 - accuracy: 0.8863 - val_loss: 0.3302 - val_accuracy: 0.8544\n",
      "Epoch 15/20\n",
      "30/30 [==============================] - 2s 70ms/step - loss: 0.2528 - accuracy: 0.9008 - val_loss: 0.3227 - val_accuracy: 0.8493\n",
      "Epoch 16/20\n",
      "30/30 [==============================] - 2s 72ms/step - loss: 0.2346 - accuracy: 0.9102 - val_loss: 0.3112 - val_accuracy: 0.8590\n",
      "Epoch 17/20\n",
      "30/30 [==============================] - 2s 70ms/step - loss: 0.2156 - accuracy: 0.9190 - val_loss: 0.3057 - val_accuracy: 0.8624\n",
      "Epoch 18/20\n",
      "30/30 [==============================] - 2s 69ms/step - loss: 0.1995 - accuracy: 0.9260 - val_loss: 0.2997 - val_accuracy: 0.8675\n",
      "Epoch 19/20\n",
      "30/30 [==============================] - 2s 69ms/step - loss: 0.1856 - accuracy: 0.9325 - val_loss: 0.2963 - val_accuracy: 0.8711\n",
      "Epoch 20/20\n",
      "30/30 [==============================] - 2s 70ms/step - loss: 0.1722 - accuracy: 0.9401 - val_loss: 0.2947 - val_accuracy: 0.8727\n"
     ]
    }
   ],
   "source": [
    "history = model.fit(train_reviews.shuffle(10000).batch(512),\n",
    "                   epochs=20,\n",
    "                   validation_data=validation_reviews.batch(512),\n",
    "                   verbose=1)"
   ]
  },
  {
   "cell_type": "code",
   "execution_count": 16,
   "metadata": {},
   "outputs": [
    {
     "data": {
      "text/plain": [
       "<matplotlib.axes._subplots.AxesSubplot at 0x7f5198910c88>"
      ]
     },
     "execution_count": 16,
     "metadata": {},
     "output_type": "execute_result"
    },
    {
     "data": {
      "image/png": "[encoded data removed]",
      "text/plain": [
       "<Figure size 720x288 with 2 Axes>"
      ]
     },
     "metadata": {
      "needs_background": "light"
     },
     "output_type": "display_data"
    }
   ],
   "source": [
    "fig, (axL, axR) = plt.subplots(ncols=2, figsize=(10,4))\n",
    "\n",
    "axR.plot(history.history['accuracy'],label=\"acc for training\")\n",
    "axR.plot(history.history['val_accuracy'],label=\"acc for validation\")\n",
    "axR.set_title('model accuracy')\n",
    "axR.set_xlabel('epoch')\n",
    "axR.set_ylabel('accuracy')\n",
    "axR.legend(loc='upper right')\n",
    "plt.axes(axR)\n",
    "\n",
    "axL.plot(history.history['loss'],label=\"loss for training\")\n",
    "axL.plot(history.history['val_loss'],label=\"loss for validation\")\n",
    "axL.set_title('model loss')\n",
    "axL.set_xlabel('epoch')\n",
    "axL.set_ylabel('loss')\n",
    "axL.legend(loc='upper right')\n",
    "plt.axes(axL)"
   ]
  },
  {
   "cell_type": "markdown",
   "metadata": {},
   "source": [
    "# モデルの評価\n",
    "\n",
    "訓練したモデルの性能を評価していきます。"
   ]
  },
  {
   "cell_type": "code",
   "execution_count": 27,
   "metadata": {},
   "outputs": [
    {
     "name": "stdout",
     "output_type": "stream",
     "text": [
      "     49/Unknown - 2s 35ms/step - loss: 0.3095 - accuracy: 0.8641\n",
      "\n",
      "loss: 0.310\n",
      "accuracy: 0.864\n"
     ]
    }
   ],
   "source": [
    "results = model.evaluate(test_reviews.batch(512), verbose=1)\n",
    "print(\"\\n\")\n",
    "\n",
    "for name, value in zip(model.metrics_names, results):\n",
    "    print(\"%s: %.3f\" % (name, value))"
   ]
  },
  {
   "cell_type": "code",
   "execution_count": 86,
   "metadata": {},
   "outputs": [],
   "source": [
    "predictions = model.predict(test_reviews.batch(5))"
   ]
  },
  {
   "cell_type": "code",
   "execution_count": 115,
   "metadata": {},
   "outputs": [],
   "source": [
    "test = next(iter(test_reviews.batch(20)));"
   ]
  },
  {
   "cell_type": "code",
   "execution_count": 116,
   "metadata": {},
   "outputs": [],
   "source": [
    "predictions = model.predict(test)"
   ]
  },
  {
   "cell_type": "code",
   "execution_count": 117,
   "metadata": {
    "scrolled": true
   },
   "outputs": [
    {
     "name": "stdout",
     "output_type": "stream",
     "text": [
      "Prediction of positive or negative on test review #1\n",
      "\n",
      " Review : \n",
      " b\"There are films that make careers. For George Romero, it was NIGHT OF THE LIVING DEAD; for Kevin Smith, CLERKS; for Robert Rodriguez, EL MARIACHI. Add to that list Onur Tukel's absolutely amazing DING-A-LING-LESS. Flawless film-making, and as assured and as professional as any of the aforementioned movies. I haven't laughed this hard since I saw THE FULL MONTY. (And, even then, I don't think I laughed quite this hard... So to speak.) Tukel's talent is considerable: DING-A-LING-LESS is so chock full of double entendres that one would have to sit down with a copy of this script and do a line-by-line examination of it to fully appreciate the, uh, breadth and width of it. Every shot is beautifully composed (a clear sign of a sure-handed director), and the performances all around are solid (there's none of the over-the-top scenery chewing one might've expected from a film like this). DING-A-LING-LESS is a film whose time has come.\"\n",
      "\n",
      " Label : \n",
      " 1\n",
      "tf.Tensor([1 1 0 0 1 1 1 1 0 1 0 0 1 0 1 0 1 0 1 0], shape=(20,), dtype=int64)\n",
      "[-0.44873658]\n",
      "[1.66455]\n",
      "[-2.0670776]\n",
      "[-2.5753067]\n",
      "[3.7119322]\n",
      "[5.4755087]\n",
      "[6.4583545]\n",
      "[5.1750245]\n",
      "[1.7475601]\n",
      "[0.16918501]\n",
      "[-4.9087586]\n",
      "[-3.841194]\n",
      "[-0.37664726]\n",
      "[-0.97743255]\n",
      "[4.518335]\n",
      "[1.1735591]\n",
      "[2.5038311]\n",
      "[-2.5416195]\n",
      "[3.1933491]\n",
      "[-5.2926936]\n"
     ]
    }
   ],
   "source": [
    "print('Prediction of positive or negative on test review #1')\n",
    "first_test_data_tensor = next(iter(test_reviews));\n",
    "first_test_data_numpy  = first_test_data_tensor[0].numpy();\n",
    "first_test_label_numpy  = first_test_data_tensor[1].numpy();\n",
    "print(\"\\n Review : \\n\" , first_test_data_numpy)\n",
    "print(\"\\n Label : \\n\" , first_test_label_numpy)\n",
    "\n",
    "\n",
    "print(test[1])\n",
    "\n",
    "for i in range(20):\n",
    "    print(predictions[i])"
   ]
  }
 ],
 "metadata": {
  "kernelspec": {
   "display_name": "Python 3",
   "language": "python",
   "name": "python3"
  },
  "language_info": {
   "codemirror_mode": {
    "name": "ipython",
    "version": 3
   },
   "file_extension": ".py",
   "mimetype": "text/x-python",
   "name": "python",
   "nbconvert_exporter": "python",
   "pygments_lexer": "ipython3",
   "version": "3.6.9"
  }
 },
 "nbformat": 4,
 "nbformat_minor": 4
}
